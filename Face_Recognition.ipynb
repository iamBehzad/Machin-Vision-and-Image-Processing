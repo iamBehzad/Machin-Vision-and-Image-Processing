{
  "cells": [
    {
      "cell_type": "markdown",
      "metadata": {
        "id": "view-in-github",
        "colab_type": "text"
      },
      "source": [
        "<a href=\"https://colab.research.google.com/github/iamBehzad/Machin-Vision-and-Image-Processing/blob/main/Face_Recognition.ipynb\" target=\"_parent\"><img src=\"https://colab.research.google.com/assets/colab-badge.svg\" alt=\"Open In Colab\"/></a>"
      ]
    },
    {
      "cell_type": "code",
      "execution_count": null,
      "id": "8b3abb6d",
      "metadata": {
        "id": "8b3abb6d"
      },
      "outputs": [],
      "source": [
        "import numpy as np\n",
        "import cv2\n",
        "import matplotlib.pyplot as plt\n",
        "\n",
        "      \n",
        "def visualize(input, faces, thickness=2):\n",
        "    if faces[1] is not None:\n",
        "        for idx, face in enumerate(faces[1]):\n",
        "            \n",
        "            face_align = recognizer.alignCrop(input, face)\n",
        "            faces_feature = recognizer.feature(face_align)\n",
        "            \n",
        "            l2_similarity_threshold = 1.3 #1.128\n",
        "            \n",
        "            l2_score = recognizer.match(face1_feature, faces_feature, cv2.FaceRecognizerSF_FR_NORM_L2)\n",
        "            Color = (0,0,255)\n",
        "            if l2_score <= l2_similarity_threshold:\n",
        "                Color = (0,255,0)\n",
        "                \n",
        "            coords = face[:-1].astype(np.int32)\n",
        "            cv2.rectangle(input, (coords[0], coords[1]), (coords[0]+coords[2], coords[1]+coords[3]), Color, thickness)\n",
        "            #cv2.circle(input, (coords[4], coords[5]), 2, (255, 0, 0), thickness)\n",
        "            #cv2.circle(input, (coords[6], coords[7]), 2, (0, 0, 255), thickness)\n",
        "            #cv2.circle(input, (coords[8], coords[9]), 2, (0, 255, 0), thickness)\n",
        "            #cv2.circle(input, (coords[10], coords[11]), 2, (255, 0, 255), thickness)\n",
        "            #cv2.circle(input, (coords[12], coords[13]), 2, (0, 255, 255), thickness)\n",
        "    cv2.imshow('image',input)\n",
        "\n",
        "detector = cv2.FaceDetectorYN.create(\n",
        "    \"model/face/face_detection_yunet_2022mar.onnx\",\n",
        "    \"\",\n",
        "    (320, 320),\n",
        "    0.8,\n",
        "    0.3,\n",
        "    5000\n",
        ")\n",
        "\n",
        "recognizer = cv2.FaceRecognizerSF.create(\"model/face/face_recognition_sface_2021dec.onnx\",\"\")\n",
        "\n",
        "image1 = cv2.imread(\"images/Cooper.jpg\")\n",
        "img1 = image1.copy()\n",
        "img1Width = int(img1.shape[1])\n",
        "img1Height = int(img1.shape[0])\n",
        "img1 = cv2.resize(img1, (img1Width, img1Height))\n",
        "\n",
        "detector.setInputSize((img1Width, img1Height))\n",
        "faces1 = detector.detect(img1)\n",
        "\n",
        "face1_align = recognizer.alignCrop(image1, faces1[1][0])\n",
        "# Extract features    \n",
        "face1_feature = recognizer.feature(face1_align)\n",
        "\n",
        "#assert faces1[1] is not None, 'Cannot find a face in {}'.format(args.image1)\n",
        "# Draw results on the input image\n",
        "#visualize(img1, faces1)\n",
        "# Save results if save is true\n",
        "\n",
        "cap = cv2.VideoCapture(\"videos/Cooper240.mp4\")\n",
        "#cap.set(cv2.CAP_PROP_POS_FRAMES, 65)\n",
        "\n",
        "while True:\n",
        "    ret, frame = cap.read()\n",
        "    if not ret:\n",
        "        break\n",
        "    img2 = frame.copy()\n",
        "\n",
        "    detector.setInputSize((img2.shape[1], img2.shape[0]))\n",
        "    faces2 = detector.detect(img2)\n",
        "    #assert faces2[1] is not None, 'Cannot find a face in {}'.format(args.image2)\n",
        "\n",
        "    visualize(img2, faces2)\n",
        "    \n",
        "    k = cv2.waitKey(5) & 0xFF\n",
        "    if k == 27:\n",
        "        break\n",
        "\n",
        "cv2.destroyAllWindows()\n",
        "cap.release()"
      ]
    },
    {
      "cell_type": "code",
      "execution_count": null,
      "id": "4508295e",
      "metadata": {
        "id": "4508295e"
      },
      "outputs": [],
      "source": []
    },
    {
      "cell_type": "code",
      "execution_count": null,
      "id": "7884f1df",
      "metadata": {
        "id": "7884f1df"
      },
      "outputs": [],
      "source": []
    }
  ],
  "metadata": {
    "kernelspec": {
      "display_name": "Python 3 (ipykernel)",
      "language": "python",
      "name": "python3"
    },
    "language_info": {
      "codemirror_mode": {
        "name": "ipython",
        "version": 3
      },
      "file_extension": ".py",
      "mimetype": "text/x-python",
      "name": "python",
      "nbconvert_exporter": "python",
      "pygments_lexer": "ipython3",
      "version": "3.9.7"
    },
    "colab": {
      "provenance": [],
      "include_colab_link": true
    }
  },
  "nbformat": 4,
  "nbformat_minor": 5
}