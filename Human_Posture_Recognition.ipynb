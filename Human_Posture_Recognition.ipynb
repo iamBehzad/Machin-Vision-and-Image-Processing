{
  "cells": [
    {
      "cell_type": "markdown",
      "metadata": {
        "id": "view-in-github",
        "colab_type": "text"
      },
      "source": [
        "<a href=\"https://colab.research.google.com/github/iamBehzad/Machin-Vision-and-Image-Processing/blob/main/Human_Posture_Recognition.ipynb\" target=\"_parent\"><img src=\"https://colab.research.google.com/assets/colab-badge.svg\" alt=\"Open In Colab\"/></a>"
      ]
    },
    {
      "cell_type": "code",
      "execution_count": null,
      "id": "ac00d30d",
      "metadata": {
        "id": "ac00d30d"
      },
      "outputs": [],
      "source": [
        "import cv2\n",
        "import numpy as np\n",
        "import matplotlib.pyplot as plt\n",
        "import math as math\n",
        "protoFile =\"pose_deploy_linevec_faster_4_stages.prototxt\"\n",
        "weightsFile = \"pose_iter_160000.caffemodel\"\n",
        "\n",
        "nPoints = 15\n",
        "POSE_PAIRS = [[0,1], [1,2], [2,3], [3,4], [1,5], [5,6], [6,7], [1,14], [14,8], [8,9], [9,10], [14,11], [11,12], [12,13] ]\n",
        "#POSE_PAIRS = [[11,12], [12,13] ]\n",
        "\n",
        "cap = cv2.VideoCapture(\"videos/Burpee240.mp4\")\n",
        "cap.set(cv2.CAP_PROP_POS_FRAMES, 65)\n",
        "\n",
        "ret, frame = cap.read()\n",
        "position = ((int) (frame.shape[1]/2 - 268/2), (int) (frame.shape[0]/2 - 36/2))\n",
        "\n",
        "# Load model and Forward Pass\n",
        "net = cv2.dnn.readNetFromCaffe(protoFile, weightsFile)\n",
        "\n",
        "\n",
        "def angle3pt(a, b, c):\n",
        "    \"\"\"Counterclockwise angle in degrees by turning from a to c around b\n",
        "        Returns a float between 0.0 and 360.0\"\"\"\n",
        "    ang = math.degrees(\n",
        "        math.atan2(c[1]-b[1], c[0]-b[0]) - math.atan2(a[1]-b[1], a[0]-b[0]))\n",
        "    return ang + 360 if ang < 0 else ang\n",
        "\n",
        "while True:\n",
        "    ret, frame = cap.read()\n",
        "    if not ret:\n",
        "        break\n",
        "    blob = cv2.dnn.blobFromImage(frame, 1.0 / 255, (368, 368), (0, 0, 0), swapRB=False, crop=False)\n",
        "    net.setInput(blob)\n",
        "    output = net.forward()\n",
        "\n",
        "    # X and Y Scale\n",
        "    height, width, _ = frame.shape\n",
        "    scaleX = width / output.shape[3]\n",
        "    scaleY = height / output.shape[2]\n",
        "\n",
        "    # Empty list to store the detected keypoints\n",
        "    points = []\n",
        "\n",
        "    # Treshold \n",
        "    threshold = 0.1\n",
        "\n",
        "    for i in range(nPoints):\n",
        "        # Obtain probability map\n",
        "        probMap = output[0, i, :, :]\n",
        "    \n",
        "        # Find global maxima of the probMap.\n",
        "        _, prob, _, point = cv2.minMaxLoc(probMap)\n",
        "    \n",
        "        # Scale the point to fit on the original image\n",
        "        x = scaleX * point[0]\n",
        "        y = scaleY * point[1]\n",
        "\n",
        "        if prob > threshold : \n",
        "            # Add the point to the list if the probability is greater than the threshold\n",
        "            points.append((int(x), int(y)))\n",
        "        else :\n",
        "            points.append(None)\n",
        "            \n",
        "    # Draw skeleton\n",
        "    imSkeleton = frame.copy()\n",
        "    for pair in POSE_PAIRS:\n",
        "        partA = pair[0]\n",
        "        partB = pair[1]\n",
        "\n",
        "        if points[partA] and points[partB]:\n",
        "            cv2.line(imSkeleton, points[partA], points[partB], (255, 255,0), 2)\n",
        "            cv2.circle(imSkeleton, points[partA], 8, (255, 0, 0), thickness=-1, lineType=cv2.FILLED)\n",
        "            \n",
        "    if points[11] and points[12] and points[13]:\n",
        "\n",
        "        theta1=angle3pt(points[11],points[12],points[13])\n",
        "        theta2=angle3pt(points[12],points[13],(points[13][0]+5,points[13][1]))\n",
        "        #print(\"theta=\",theta)\n",
        "        \n",
        "        if (theta1<120 and theta2<145):\n",
        "            cv2.putText(imSkeleton,\"Sitting\", position,cv2.FONT_HERSHEY_SIMPLEX,1,(209, 80, 0, 255), 3) \n",
        "        elif (theta1>120 and theta2<145):\n",
        "            cv2.putText(imSkeleton,\"Standing\", position,cv2.FONT_HERSHEY_SIMPLEX,1,(209, 80, 0, 255), 3) \n",
        "        else:\n",
        "            cv2.putText(imSkeleton,\"Lying down\", position,cv2.FONT_HERSHEY_SIMPLEX,1,(209, 80, 0, 255), 3) \n",
        "                \n",
        "    cv2.imshow('image',imSkeleton)\n",
        "    \n",
        "    k = cv2.waitKey(5) & 0xFF\n",
        "    if k == 27:\n",
        "        break\n",
        "\n",
        "cv2.destroyAllWindows()\n",
        "cap.release()"
      ]
    },
    {
      "cell_type": "code",
      "execution_count": null,
      "id": "f170943d",
      "metadata": {
        "id": "f170943d"
      },
      "outputs": [],
      "source": []
    },
    {
      "cell_type": "code",
      "execution_count": null,
      "id": "2d265ae8",
      "metadata": {
        "id": "2d265ae8"
      },
      "outputs": [],
      "source": []
    }
  ],
  "metadata": {
    "kernelspec": {
      "display_name": "Python 3 (ipykernel)",
      "language": "python",
      "name": "python3"
    },
    "language_info": {
      "codemirror_mode": {
        "name": "ipython",
        "version": 3
      },
      "file_extension": ".py",
      "mimetype": "text/x-python",
      "name": "python",
      "nbconvert_exporter": "python",
      "pygments_lexer": "ipython3",
      "version": "3.9.7"
    },
    "colab": {
      "provenance": [],
      "include_colab_link": true
    }
  },
  "nbformat": 4,
  "nbformat_minor": 5
}